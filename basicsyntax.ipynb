{
 "cells": [
  {
   "cell_type": "markdown",
   "id": "7284f73a",
   "metadata": {},
   "source": [
    "# Data Structures (Most important component of Prog. Langauge)"
   ]
  },
  {
   "cell_type": "markdown",
   "id": "b01aac16",
   "metadata": {},
   "source": [
    "Data structure is the different wy to store data"
   ]
  },
  {
   "cell_type": "markdown",
   "id": "57232967",
   "metadata": {},
   "source": [
    "why are the different way"
   ]
  },
  {
   "cell_type": "markdown",
   "id": "6b50052f",
   "metadata": {},
   "source": [
    "because they have different advantages and disadvantages"
   ]
  },
  {
   "cell_type": "markdown",
   "id": "27c6bba3",
   "metadata": {},
   "source": [
    "1. When to use data structure in prog. Lamg. to get max. benefit"
   ]
  },
  {
   "cell_type": "markdown",
   "id": "c076ddd8",
   "metadata": {},
   "source": [
    "Core Data structure in python these are the way to store data\n",
    "1. list\n",
    "2. dictionary\n",
    "3. tuple\n",
    "4. set"
   ]
  },
  {
   "cell_type": "markdown",
   "id": "e04d09aa",
   "metadata": {},
   "source": [
    "list_instance = lsit()"
   ]
  },
  {
   "cell_type": "code",
   "execution_count": 3,
   "id": "1ba652bc",
   "metadata": {},
   "outputs": [
    {
     "ename": "NameError",
     "evalue": "name 'list_instance' is not defined",
     "output_type": "error",
     "traceback": [
      "\u001b[1;31m---------------------------------------------------------------------------\u001b[0m",
      "\u001b[1;31mNameError\u001b[0m                                 Traceback (most recent call last)",
      "\u001b[1;32m~\\AppData\\Local\\Temp\\ipykernel_9288\\2051360480.py\u001b[0m in \u001b[0;36m<module>\u001b[1;34m\u001b[0m\n\u001b[1;32m----> 1\u001b[1;33m \u001b[0mlist_instance\u001b[0m\u001b[1;33m\u001b[0m\u001b[1;33m\u001b[0m\u001b[0m\n\u001b[0m",
      "\u001b[1;31mNameError\u001b[0m: name 'list_instance' is not defined"
     ]
    }
   ],
   "source": [
    "list_instance"
   ]
  },
  {
   "cell_type": "code",
   "execution_count": 4,
   "id": "a10d7ef9",
   "metadata": {},
   "outputs": [],
   "source": [
    "list_input= list()"
   ]
  },
  {
   "cell_type": "code",
   "execution_count": 5,
   "id": "9c9366fd",
   "metadata": {},
   "outputs": [
    {
     "ename": "TypeError",
     "evalue": "list.append() takes exactly one argument (4 given)",
     "output_type": "error",
     "traceback": [
      "\u001b[1;31m---------------------------------------------------------------------------\u001b[0m",
      "\u001b[1;31mTypeError\u001b[0m                                 Traceback (most recent call last)",
      "\u001b[1;32m~\\AppData\\Local\\Temp\\ipykernel_9288\\4138909443.py\u001b[0m in \u001b[0;36m<module>\u001b[1;34m\u001b[0m\n\u001b[1;32m----> 1\u001b[1;33m \u001b[0mlist_input\u001b[0m\u001b[1;33m.\u001b[0m\u001b[0mappend\u001b[0m\u001b[1;33m(\u001b[0m\u001b[1;36m18\u001b[0m\u001b[1;33m,\u001b[0m \u001b[1;36m19\u001b[0m\u001b[1;33m,\u001b[0m \u001b[1;36m20\u001b[0m\u001b[1;33m,\u001b[0m \u001b[1;36m21\u001b[0m\u001b[1;33m)\u001b[0m\u001b[1;33m\u001b[0m\u001b[1;33m\u001b[0m\u001b[0m\n\u001b[0m",
      "\u001b[1;31mTypeError\u001b[0m: list.append() takes exactly one argument (4 given)"
     ]
    }
   ],
   "source": [
    "list_input.append(18, 19, 20, 21)"
   ]
  },
  {
   "cell_type": "code",
   "execution_count": 6,
   "id": "ff6d5d2a",
   "metadata": {},
   "outputs": [],
   "source": [
    "list_input.append(18)"
   ]
  },
  {
   "cell_type": "code",
   "execution_count": 7,
   "id": "de000090",
   "metadata": {},
   "outputs": [
    {
     "data": {
      "text/plain": [
       "[18]"
      ]
     },
     "execution_count": 7,
     "metadata": {},
     "output_type": "execute_result"
    }
   ],
   "source": [
    "list_input"
   ]
  },
  {
   "cell_type": "code",
   "execution_count": 8,
   "id": "12fa885a",
   "metadata": {},
   "outputs": [],
   "source": [
    "list_input.append(19)"
   ]
  },
  {
   "cell_type": "code",
   "execution_count": 9,
   "id": "fb60a36d",
   "metadata": {},
   "outputs": [],
   "source": [
    "list_input.append(20)"
   ]
  },
  {
   "cell_type": "code",
   "execution_count": 10,
   "id": "feb47adf",
   "metadata": {},
   "outputs": [],
   "source": [
    "list_input.append(21)"
   ]
  },
  {
   "cell_type": "code",
   "execution_count": 11,
   "id": "54f85289",
   "metadata": {},
   "outputs": [],
   "source": [
    "list_input.append(\"First practise on coding\")"
   ]
  },
  {
   "cell_type": "code",
   "execution_count": 12,
   "id": "fab2b2b0",
   "metadata": {},
   "outputs": [
    {
     "data": {
      "text/plain": [
       "[18, 19, 20, 21, 'First practise on coding']"
      ]
     },
     "execution_count": 12,
     "metadata": {},
     "output_type": "execute_result"
    }
   ],
   "source": [
    "list_input"
   ]
  },
  {
   "cell_type": "code",
   "execution_count": 13,
   "id": "e03955cd",
   "metadata": {},
   "outputs": [],
   "source": [
    "list_input.append(\"Practise 01\")"
   ]
  },
  {
   "cell_type": "code",
   "execution_count": 14,
   "id": "0bda29d9",
   "metadata": {},
   "outputs": [
    {
     "data": {
      "text/plain": [
       "[18, 19, 20, 21, 'First practise on coding', 'Practise 01']"
      ]
     },
     "execution_count": 14,
     "metadata": {},
     "output_type": "execute_result"
    }
   ],
   "source": [
    "list_input"
   ]
  },
  {
   "cell_type": "code",
   "execution_count": 15,
   "id": "910408ab",
   "metadata": {},
   "outputs": [],
   "source": [
    "list_input.clear()"
   ]
  },
  {
   "cell_type": "code",
   "execution_count": 16,
   "id": "ee100f24",
   "metadata": {},
   "outputs": [
    {
     "data": {
      "text/plain": [
       "[]"
      ]
     },
     "execution_count": 16,
     "metadata": {},
     "output_type": "execute_result"
    }
   ],
   "source": [
    "list_input"
   ]
  },
  {
   "cell_type": "code",
   "execution_count": 17,
   "id": "bd3150be",
   "metadata": {},
   "outputs": [
    {
     "data": {
      "text/plain": [
       "[]"
      ]
     },
     "execution_count": 17,
     "metadata": {},
     "output_type": "execute_result"
    }
   ],
   "source": [
    "list_input.copy()"
   ]
  },
  {
   "cell_type": "code",
   "execution_count": 18,
   "id": "3bda9084",
   "metadata": {},
   "outputs": [],
   "source": [
    "list_input.append(24)"
   ]
  },
  {
   "cell_type": "code",
   "execution_count": 19,
   "id": "c815e7e8",
   "metadata": {},
   "outputs": [],
   "source": [
    "list_input.append(\"-\")"
   ]
  },
  {
   "cell_type": "code",
   "execution_count": 20,
   "id": "89f8087f",
   "metadata": {},
   "outputs": [
    {
     "ename": "SyntaxError",
     "evalue": "leading zeros in decimal integer literals are not permitted; use an 0o prefix for octal integers (639283045.py, line 1)",
     "output_type": "error",
     "traceback": [
      "\u001b[1;36m  File \u001b[1;32m\"C:\\Users\\HP\\AppData\\Local\\Temp\\ipykernel_9288\\639283045.py\"\u001b[1;36m, line \u001b[1;32m1\u001b[0m\n\u001b[1;33m    list_input.append(01)\u001b[0m\n\u001b[1;37m                       ^\u001b[0m\n\u001b[1;31mSyntaxError\u001b[0m\u001b[1;31m:\u001b[0m leading zeros in decimal integer literals are not permitted; use an 0o prefix for octal integers\n"
     ]
    }
   ],
   "source": [
    "list_input.append(01)"
   ]
  },
  {
   "cell_type": "code",
   "execution_count": 31,
   "id": "459dbf78",
   "metadata": {},
   "outputs": [],
   "source": [
    "list_input.append(0o1)"
   ]
  },
  {
   "cell_type": "code",
   "execution_count": 32,
   "id": "e6fb4567",
   "metadata": {},
   "outputs": [],
   "source": [
    "list_input.append(\"-\")"
   ]
  },
  {
   "cell_type": "code",
   "execution_count": 33,
   "id": "99dceb3c",
   "metadata": {},
   "outputs": [],
   "source": [
    "list_input.append(1993)"
   ]
  },
  {
   "cell_type": "code",
   "execution_count": 34,
   "id": "9f3aad7c",
   "metadata": {},
   "outputs": [],
   "source": [
    "list_input.append(\"DOB\")"
   ]
  },
  {
   "cell_type": "code",
   "execution_count": 35,
   "id": "77935893",
   "metadata": {},
   "outputs": [
    {
     "data": {
      "text/plain": [
       "[24, '-', 1, '-', 1993, 'DOB']"
      ]
     },
     "execution_count": 35,
     "metadata": {},
     "output_type": "execute_result"
    }
   ],
   "source": [
    "list_input"
   ]
  },
  {
   "cell_type": "code",
   "execution_count": 36,
   "id": "6b710e48",
   "metadata": {},
   "outputs": [],
   "source": [
    "y= list_input"
   ]
  },
  {
   "cell_type": "code",
   "execution_count": 37,
   "id": "a04d72f4",
   "metadata": {},
   "outputs": [
    {
     "data": {
      "text/plain": [
       "[24, '-', 1, '-', 1993, 'DOB']"
      ]
     },
     "execution_count": 37,
     "metadata": {},
     "output_type": "execute_result"
    }
   ],
   "source": [
    "y"
   ]
  },
  {
   "cell_type": "code",
   "execution_count": 38,
   "id": "e4174f9d",
   "metadata": {},
   "outputs": [
    {
     "data": {
      "text/plain": [
       "[24, '-', 1, '-', 1993, 'DOB']"
      ]
     },
     "execution_count": 38,
     "metadata": {},
     "output_type": "execute_result"
    }
   ],
   "source": [
    "list_input"
   ]
  },
  {
   "cell_type": "code",
   "execution_count": 39,
   "id": "59232372",
   "metadata": {},
   "outputs": [
    {
     "data": {
      "text/plain": [
       "1"
      ]
     },
     "execution_count": 39,
     "metadata": {},
     "output_type": "execute_result"
    }
   ],
   "source": [
    "list_input.count(1993)"
   ]
  },
  {
   "cell_type": "code",
   "execution_count": 40,
   "id": "2f79922f",
   "metadata": {},
   "outputs": [
    {
     "data": {
      "text/plain": [
       "0"
      ]
     },
     "execution_count": 40,
     "metadata": {},
     "output_type": "execute_result"
    }
   ],
   "source": [
    "y.count(\"dob\")"
   ]
  },
  {
   "cell_type": "code",
   "execution_count": 41,
   "id": "579094c6",
   "metadata": {},
   "outputs": [
    {
     "data": {
      "text/plain": [
       "1"
      ]
     },
     "execution_count": 41,
     "metadata": {},
     "output_type": "execute_result"
    }
   ],
   "source": [
    "y.count(\"DOB\")"
   ]
  },
  {
   "cell_type": "code",
   "execution_count": 43,
   "id": "5508963a",
   "metadata": {},
   "outputs": [
    {
     "ename": "TypeError",
     "evalue": "list.extend() takes exactly one argument (4 given)",
     "output_type": "error",
     "traceback": [
      "\u001b[1;31m---------------------------------------------------------------------------\u001b[0m",
      "\u001b[1;31mTypeError\u001b[0m                                 Traceback (most recent call last)",
      "\u001b[1;32m~\\AppData\\Local\\Temp\\ipykernel_9288\\1627793517.py\u001b[0m in \u001b[0;36m<module>\u001b[1;34m\u001b[0m\n\u001b[1;32m----> 1\u001b[1;33m \u001b[0my\u001b[0m\u001b[1;33m.\u001b[0m\u001b[0mextend\u001b[0m\u001b[1;33m(\u001b[0m\u001b[1;34m\"Smupy DOB\"\u001b[0m\u001b[1;33m,\u001b[0m \u001b[1;36m20\u001b[0m\u001b[1;33m,\u001b[0m \u001b[1;36m9\u001b[0m\u001b[1;33m,\u001b[0m \u001b[1;36m1993\u001b[0m\u001b[1;33m)\u001b[0m\u001b[1;33m\u001b[0m\u001b[1;33m\u001b[0m\u001b[0m\n\u001b[0m",
      "\u001b[1;31mTypeError\u001b[0m: list.extend() takes exactly one argument (4 given)"
     ]
    }
   ],
   "source": [
    "y.extend(\"Smupy DOB\", 20, 9, 1993)"
   ]
  },
  {
   "cell_type": "code",
   "execution_count": 44,
   "id": "3e4ebd21",
   "metadata": {},
   "outputs": [],
   "source": [
    "y.extend([\"Smupy DOB\", 20, 9, 1993])"
   ]
  },
  {
   "cell_type": "code",
   "execution_count": 45,
   "id": "ff3f0af5",
   "metadata": {},
   "outputs": [
    {
     "data": {
      "text/plain": [
       "[24, '-', 1, '-', 1993, 'DOB', 'Smupy DOB', 20, 9, 1993]"
      ]
     },
     "execution_count": 45,
     "metadata": {},
     "output_type": "execute_result"
    }
   ],
   "source": [
    "y"
   ]
  },
  {
   "cell_type": "code",
   "execution_count": 46,
   "id": "f5317f6d",
   "metadata": {},
   "outputs": [
    {
     "data": {
      "text/plain": [
       "0"
      ]
     },
     "execution_count": 46,
     "metadata": {},
     "output_type": "execute_result"
    }
   ],
   "source": [
    "y.index(24)"
   ]
  },
  {
   "cell_type": "code",
   "execution_count": 52,
   "id": "affc6b31",
   "metadata": {},
   "outputs": [],
   "source": [
    "i= y.index(9)"
   ]
  },
  {
   "cell_type": "code",
   "execution_count": 53,
   "id": "1343c459",
   "metadata": {},
   "outputs": [
    {
     "ename": "ValueError",
     "evalue": "[9] is not in list",
     "output_type": "error",
     "traceback": [
      "\u001b[1;31m---------------------------------------------------------------------------\u001b[0m",
      "\u001b[1;31mValueError\u001b[0m                                Traceback (most recent call last)",
      "\u001b[1;32m~\\AppData\\Local\\Temp\\ipykernel_9288\\1507624420.py\u001b[0m in \u001b[0;36m<module>\u001b[1;34m\u001b[0m\n\u001b[1;32m----> 1\u001b[1;33m \u001b[0my\u001b[0m\u001b[1;33m.\u001b[0m\u001b[0mindex\u001b[0m\u001b[1;33m(\u001b[0m\u001b[1;33m[\u001b[0m\u001b[1;36m9\u001b[0m\u001b[1;33m]\u001b[0m\u001b[1;33m)\u001b[0m\u001b[1;33m\u001b[0m\u001b[1;33m\u001b[0m\u001b[0m\n\u001b[0m",
      "\u001b[1;31mValueError\u001b[0m: [9] is not in list"
     ]
    }
   ],
   "source": [
    "y.index([9])"
   ]
  },
  {
   "cell_type": "code",
   "execution_count": 54,
   "id": "edd02d4d",
   "metadata": {},
   "outputs": [
    {
     "data": {
      "text/plain": [
       "1993"
      ]
     },
     "execution_count": 54,
     "metadata": {},
     "output_type": "execute_result"
    }
   ],
   "source": [
    "y[9]"
   ]
  },
  {
   "cell_type": "code",
   "execution_count": 55,
   "id": "3b6e980d",
   "metadata": {},
   "outputs": [
    {
     "ename": "NameError",
     "evalue": "name 'Delete' is not defined",
     "output_type": "error",
     "traceback": [
      "\u001b[1;31m---------------------------------------------------------------------------\u001b[0m",
      "\u001b[1;31mNameError\u001b[0m                                 Traceback (most recent call last)",
      "\u001b[1;32m~\\AppData\\Local\\Temp\\ipykernel_9288\\1874867976.py\u001b[0m in \u001b[0;36m<module>\u001b[1;34m\u001b[0m\n\u001b[1;32m----> 1\u001b[1;33m \u001b[0my\u001b[0m\u001b[1;33m.\u001b[0m\u001b[0minsert\u001b[0m\u001b[1;33m(\u001b[0m\u001b[1;36m6\u001b[0m\u001b[1;33m,\u001b[0m \u001b[0mDelete\u001b[0m\u001b[1;33m)\u001b[0m\u001b[1;33m\u001b[0m\u001b[1;33m\u001b[0m\u001b[0m\n\u001b[0m",
      "\u001b[1;31mNameError\u001b[0m: name 'Delete' is not defined"
     ]
    }
   ],
   "source": [
    "y.insert(6, Delete)"
   ]
  },
  {
   "cell_type": "code",
   "execution_count": 56,
   "id": "9bb35801",
   "metadata": {},
   "outputs": [],
   "source": [
    "y.insert(6, \"delete\")"
   ]
  },
  {
   "cell_type": "code",
   "execution_count": 57,
   "id": "a3986789",
   "metadata": {},
   "outputs": [
    {
     "data": {
      "text/plain": [
       "[24, '-', 1, '-', 1993, 'DOB', 'delete', 'Smupy DOB', 20, 9, 1993]"
      ]
     },
     "execution_count": 57,
     "metadata": {},
     "output_type": "execute_result"
    }
   ],
   "source": [
    "y"
   ]
  },
  {
   "cell_type": "code",
   "execution_count": 61,
   "id": "80418391",
   "metadata": {},
   "outputs": [],
   "source": [
    "p=y.index(\"Smupy DOB\")"
   ]
  },
  {
   "cell_type": "code",
   "execution_count": 62,
   "id": "f735223b",
   "metadata": {},
   "outputs": [
    {
     "data": {
      "text/plain": [
       "7"
      ]
     },
     "execution_count": 62,
     "metadata": {},
     "output_type": "execute_result"
    }
   ],
   "source": [
    "p"
   ]
  },
  {
   "cell_type": "code",
   "execution_count": 63,
   "id": "8413c2b7",
   "metadata": {},
   "outputs": [
    {
     "ename": "TypeError",
     "evalue": "'str' object cannot be interpreted as an integer",
     "output_type": "error",
     "traceback": [
      "\u001b[1;31m---------------------------------------------------------------------------\u001b[0m",
      "\u001b[1;31mTypeError\u001b[0m                                 Traceback (most recent call last)",
      "\u001b[1;32m~\\AppData\\Local\\Temp\\ipykernel_9288\\1923380509.py\u001b[0m in \u001b[0;36m<module>\u001b[1;34m\u001b[0m\n\u001b[1;32m----> 1\u001b[1;33m \u001b[0my\u001b[0m\u001b[1;33m.\u001b[0m\u001b[0mpop\u001b[0m\u001b[1;33m(\u001b[0m\u001b[1;34m\"Smupy DOB\"\u001b[0m\u001b[1;33m)\u001b[0m\u001b[1;33m\u001b[0m\u001b[1;33m\u001b[0m\u001b[0m\n\u001b[0m",
      "\u001b[1;31mTypeError\u001b[0m: 'str' object cannot be interpreted as an integer"
     ]
    }
   ],
   "source": [
    "y.pop(\"Smupy DOB\")"
   ]
  },
  {
   "cell_type": "code",
   "execution_count": 64,
   "id": "eef0259e",
   "metadata": {},
   "outputs": [
    {
     "ename": "IndexError",
     "evalue": "pop index out of range",
     "output_type": "error",
     "traceback": [
      "\u001b[1;31m---------------------------------------------------------------------------\u001b[0m",
      "\u001b[1;31mIndexError\u001b[0m                                Traceback (most recent call last)",
      "\u001b[1;32m~\\AppData\\Local\\Temp\\ipykernel_9288\\1293246524.py\u001b[0m in \u001b[0;36m<module>\u001b[1;34m\u001b[0m\n\u001b[1;32m----> 1\u001b[1;33m \u001b[0my\u001b[0m\u001b[1;33m.\u001b[0m\u001b[0mpop\u001b[0m\u001b[1;33m(\u001b[0m\u001b[1;36m20\u001b[0m\u001b[1;33m)\u001b[0m\u001b[1;33m\u001b[0m\u001b[1;33m\u001b[0m\u001b[0m\n\u001b[0m",
      "\u001b[1;31mIndexError\u001b[0m: pop index out of range"
     ]
    }
   ],
   "source": [
    "y.pop(20)"
   ]
  },
  {
   "cell_type": "code",
   "execution_count": 65,
   "id": "8ed3673d",
   "metadata": {},
   "outputs": [
    {
     "data": {
      "text/plain": [
       "'Smupy DOB'"
      ]
     },
     "execution_count": 65,
     "metadata": {},
     "output_type": "execute_result"
    }
   ],
   "source": [
    "y.pop(7)"
   ]
  },
  {
   "cell_type": "code",
   "execution_count": 66,
   "id": "7a7fbddb",
   "metadata": {},
   "outputs": [
    {
     "data": {
      "text/plain": [
       "20"
      ]
     },
     "execution_count": 66,
     "metadata": {},
     "output_type": "execute_result"
    }
   ],
   "source": [
    "y.pop(7)"
   ]
  },
  {
   "cell_type": "code",
   "execution_count": 67,
   "id": "ccb8e758",
   "metadata": {},
   "outputs": [
    {
     "data": {
      "text/plain": [
       "9"
      ]
     },
     "execution_count": 67,
     "metadata": {},
     "output_type": "execute_result"
    }
   ],
   "source": [
    "y.pop(7)"
   ]
  },
  {
   "cell_type": "code",
   "execution_count": 68,
   "id": "34e45ad3",
   "metadata": {},
   "outputs": [
    {
     "data": {
      "text/plain": [
       "1993"
      ]
     },
     "execution_count": 68,
     "metadata": {},
     "output_type": "execute_result"
    }
   ],
   "source": [
    "y.pop(7)"
   ]
  },
  {
   "cell_type": "code",
   "execution_count": 69,
   "id": "5a75ba71",
   "metadata": {},
   "outputs": [
    {
     "data": {
      "text/plain": [
       "'delete'"
      ]
     },
     "execution_count": 69,
     "metadata": {},
     "output_type": "execute_result"
    }
   ],
   "source": [
    "y.pop(6)"
   ]
  },
  {
   "cell_type": "code",
   "execution_count": 70,
   "id": "e5a18c4c",
   "metadata": {},
   "outputs": [
    {
     "data": {
      "text/plain": [
       "[24, '-', 1, '-', 1993, 'DOB']"
      ]
     },
     "execution_count": 70,
     "metadata": {},
     "output_type": "execute_result"
    }
   ],
   "source": [
    "y"
   ]
  },
  {
   "cell_type": "code",
   "execution_count": 71,
   "id": "3e0c94a0",
   "metadata": {},
   "outputs": [],
   "source": [
    "y.remove(24)"
   ]
  },
  {
   "cell_type": "code",
   "execution_count": 72,
   "id": "cb3e70b4",
   "metadata": {},
   "outputs": [
    {
     "data": {
      "text/plain": [
       "['-', 1, '-', 1993, 'DOB']"
      ]
     },
     "execution_count": 72,
     "metadata": {},
     "output_type": "execute_result"
    }
   ],
   "source": [
    "y"
   ]
  },
  {
   "cell_type": "code",
   "execution_count": 73,
   "id": "f6177ce4",
   "metadata": {},
   "outputs": [
    {
     "ename": "TypeError",
     "evalue": "list.remove() takes exactly one argument (4 given)",
     "output_type": "error",
     "traceback": [
      "\u001b[1;31m---------------------------------------------------------------------------\u001b[0m",
      "\u001b[1;31mTypeError\u001b[0m                                 Traceback (most recent call last)",
      "\u001b[1;32m~\\AppData\\Local\\Temp\\ipykernel_9288\\197421903.py\u001b[0m in \u001b[0;36m<module>\u001b[1;34m\u001b[0m\n\u001b[1;32m----> 1\u001b[1;33m \u001b[0my\u001b[0m\u001b[1;33m.\u001b[0m\u001b[0mremove\u001b[0m\u001b[1;33m(\u001b[0m\u001b[1;34m\"-\"\u001b[0m\u001b[1;33m,\u001b[0m \u001b[1;36m1\u001b[0m\u001b[1;33m,\u001b[0m \u001b[1;34m\"-\"\u001b[0m\u001b[1;33m,\u001b[0m \u001b[1;36m1993\u001b[0m\u001b[1;33m)\u001b[0m\u001b[1;33m\u001b[0m\u001b[1;33m\u001b[0m\u001b[0m\n\u001b[0m",
      "\u001b[1;31mTypeError\u001b[0m: list.remove() takes exactly one argument (4 given)"
     ]
    }
   ],
   "source": [
    "y.remove(\"-\", 1, \"-\", 1993)"
   ]
  },
  {
   "cell_type": "code",
   "execution_count": 74,
   "id": "5e4a4770",
   "metadata": {},
   "outputs": [],
   "source": [
    "y.reverse()"
   ]
  },
  {
   "cell_type": "code",
   "execution_count": 75,
   "id": "3a3e1fa2",
   "metadata": {},
   "outputs": [
    {
     "data": {
      "text/plain": [
       "['DOB', 1993, '-', 1, '-']"
      ]
     },
     "execution_count": 75,
     "metadata": {},
     "output_type": "execute_result"
    }
   ],
   "source": [
    "y"
   ]
  },
  {
   "cell_type": "code",
   "execution_count": 79,
   "id": "c05d7fbd",
   "metadata": {},
   "outputs": [
    {
     "data": {
      "text/plain": [
       "<function list.clear()>"
      ]
     },
     "execution_count": 79,
     "metadata": {},
     "output_type": "execute_result"
    }
   ],
   "source": [
    "y.clear"
   ]
  },
  {
   "cell_type": "code",
   "execution_count": 80,
   "id": "d235a7db",
   "metadata": {},
   "outputs": [
    {
     "data": {
      "text/plain": [
       "['DOB', 1993, '-', 1, '-']"
      ]
     },
     "execution_count": 80,
     "metadata": {},
     "output_type": "execute_result"
    }
   ],
   "source": [
    "y"
   ]
  },
  {
   "cell_type": "code",
   "execution_count": 81,
   "id": "b582d048",
   "metadata": {},
   "outputs": [],
   "source": [
    "y.clear()"
   ]
  },
  {
   "cell_type": "code",
   "execution_count": 82,
   "id": "b202a867",
   "metadata": {},
   "outputs": [
    {
     "data": {
      "text/plain": [
       "[]"
      ]
     },
     "execution_count": 82,
     "metadata": {},
     "output_type": "execute_result"
    }
   ],
   "source": [
    "y"
   ]
  },
  {
   "cell_type": "code",
   "execution_count": 84,
   "id": "d40027fb",
   "metadata": {},
   "outputs": [],
   "source": [
    "y.extend([4, 5, 7, 75, 87, 96, 125, 124, 1321564, 1546, 547, 4637])"
   ]
  },
  {
   "cell_type": "code",
   "execution_count": 85,
   "id": "ff3e25b3",
   "metadata": {},
   "outputs": [
    {
     "data": {
      "text/plain": [
       "[4, 5, 7, 75, 87, 96, 125, 124, 1321564, 1546, 547, 4637]"
      ]
     },
     "execution_count": 85,
     "metadata": {},
     "output_type": "execute_result"
    }
   ],
   "source": [
    "y"
   ]
  },
  {
   "cell_type": "code",
   "execution_count": 86,
   "id": "40c92936",
   "metadata": {},
   "outputs": [],
   "source": [
    "y.sort()"
   ]
  },
  {
   "cell_type": "code",
   "execution_count": 1,
   "id": "1c970bcb",
   "metadata": {},
   "outputs": [
    {
     "ename": "NameError",
     "evalue": "name 'y' is not defined",
     "output_type": "error",
     "traceback": [
      "\u001b[1;31m---------------------------------------------------------------------------\u001b[0m",
      "\u001b[1;31mNameError\u001b[0m                                 Traceback (most recent call last)",
      "\u001b[1;32m~\\AppData\\Local\\Temp\\ipykernel_12236\\3563912222.py\u001b[0m in \u001b[0;36m<module>\u001b[1;34m\u001b[0m\n\u001b[1;32m----> 1\u001b[1;33m \u001b[0my\u001b[0m\u001b[1;33m\u001b[0m\u001b[1;33m\u001b[0m\u001b[0m\n\u001b[0m",
      "\u001b[1;31mNameError\u001b[0m: name 'y' is not defined"
     ]
    }
   ],
   "source": [
    "y"
   ]
  },
  {
   "cell_type": "code",
   "execution_count": 89,
   "id": "29c398d4",
   "metadata": {},
   "outputs": [
    {
     "ename": "NameError",
     "evalue": "name 'true' is not defined",
     "output_type": "error",
     "traceback": [
      "\u001b[1;31m---------------------------------------------------------------------------\u001b[0m",
      "\u001b[1;31mNameError\u001b[0m                                 Traceback (most recent call last)",
      "\u001b[1;32m~\\AppData\\Local\\Temp\\ipykernel_9288\\3712194293.py\u001b[0m in \u001b[0;36m<module>\u001b[1;34m\u001b[0m\n\u001b[1;32m----> 1\u001b[1;33m \u001b[0my\u001b[0m\u001b[1;33m.\u001b[0m\u001b[0msort\u001b[0m\u001b[1;33m(\u001b[0m\u001b[0mreverse\u001b[0m\u001b[1;33m=\u001b[0m\u001b[0mtrue\u001b[0m\u001b[1;33m)\u001b[0m\u001b[1;33m\u001b[0m\u001b[1;33m\u001b[0m\u001b[0m\n\u001b[0m",
      "\u001b[1;31mNameError\u001b[0m: name 'true' is not defined"
     ]
    }
   ],
   "source": [
    "y.sort(reverse=true)"
   ]
  },
  {
   "cell_type": "code",
   "execution_count": 90,
   "id": "4464f9d8",
   "metadata": {},
   "outputs": [],
   "source": [
    "y.sort(reverse=True)"
   ]
  },
  {
   "cell_type": "code",
   "execution_count": 3,
   "id": "bdc1f4d3",
   "metadata": {},
   "outputs": [
    {
     "ename": "NameError",
     "evalue": "name 'y' is not defined",
     "output_type": "error",
     "traceback": [
      "\u001b[1;31m---------------------------------------------------------------------------\u001b[0m",
      "\u001b[1;31mNameError\u001b[0m                                 Traceback (most recent call last)",
      "\u001b[1;32m~\\AppData\\Local\\Temp\\ipykernel_11628\\3563912222.py\u001b[0m in \u001b[0;36m<module>\u001b[1;34m\u001b[0m\n\u001b[1;32m----> 1\u001b[1;33m \u001b[0my\u001b[0m\u001b[1;33m\u001b[0m\u001b[1;33m\u001b[0m\u001b[0m\n\u001b[0m",
      "\u001b[1;31mNameError\u001b[0m: name 'y' is not defined"
     ]
    }
   ],
   "source": [
    "y"
   ]
  },
  {
   "cell_type": "code",
   "execution_count": 2,
   "id": "b27b3952",
   "metadata": {
    "scrolled": false
   },
   "outputs": [
    {
     "ename": "NameError",
     "evalue": "name 'y' is not defined",
     "output_type": "error",
     "traceback": [
      "\u001b[1;31m---------------------------------------------------------------------------\u001b[0m",
      "\u001b[1;31mNameError\u001b[0m                                 Traceback (most recent call last)",
      "\u001b[1;32m~\\AppData\\Local\\Temp\\ipykernel_11628\\4222531820.py\u001b[0m in \u001b[0;36m<module>\u001b[1;34m\u001b[0m\n\u001b[1;32m----> 1\u001b[1;33m \u001b[0my\u001b[0m\u001b[1;33m.\u001b[0m\u001b[0msort\u001b[0m\u001b[1;33m(\u001b[0m\u001b[1;32mTrue\u001b[0m\u001b[1;33m)\u001b[0m\u001b[1;33m\u001b[0m\u001b[1;33m\u001b[0m\u001b[0m\n\u001b[0m",
      "\u001b[1;31mNameError\u001b[0m: name 'y' is not defined"
     ]
    }
   ],
   "source": [
    "y.sort(True)"
   ]
  },
  {
   "cell_type": "code",
   "execution_count": 2,
   "id": "c688929c",
   "metadata": {},
   "outputs": [],
   "source": [
    "y= list()"
   ]
  },
  {
   "cell_type": "code",
   "execution_count": 3,
   "id": "564b6b37",
   "metadata": {},
   "outputs": [],
   "source": [
    "y.insert(0, 18)"
   ]
  },
  {
   "cell_type": "code",
   "execution_count": 4,
   "id": "9b5e9978",
   "metadata": {},
   "outputs": [
    {
     "data": {
      "text/plain": [
       "[18]"
      ]
     },
     "execution_count": 4,
     "metadata": {},
     "output_type": "execute_result"
    }
   ],
   "source": [
    "y"
   ]
  },
  {
   "cell_type": "code",
   "execution_count": 5,
   "id": "f8a11d3c",
   "metadata": {},
   "outputs": [],
   "source": [
    "y.insert(1, \"unique code\")"
   ]
  },
  {
   "cell_type": "code",
   "execution_count": 6,
   "id": "07dec1c7",
   "metadata": {},
   "outputs": [],
   "source": [
    "y.insert(2, 2401)"
   ]
  },
  {
   "cell_type": "code",
   "execution_count": 7,
   "id": "070465ce",
   "metadata": {},
   "outputs": [
    {
     "data": {
      "text/plain": [
       "[18, 'unique code', 2401]"
      ]
     },
     "execution_count": 7,
     "metadata": {},
     "output_type": "execute_result"
    }
   ],
   "source": [
    "y"
   ]
  },
  {
   "cell_type": "code",
   "execution_count": 8,
   "id": "47c76b6d",
   "metadata": {},
   "outputs": [
    {
     "data": {
      "text/plain": [
       "2401"
      ]
     },
     "execution_count": 8,
     "metadata": {},
     "output_type": "execute_result"
    }
   ],
   "source": [
    "y.pop(2)"
   ]
  },
  {
   "cell_type": "code",
   "execution_count": 9,
   "id": "cf42ef21",
   "metadata": {},
   "outputs": [
    {
     "data": {
      "text/plain": [
       "[18, 'unique code']"
      ]
     },
     "execution_count": 9,
     "metadata": {},
     "output_type": "execute_result"
    }
   ],
   "source": [
    "y"
   ]
  },
  {
   "cell_type": "code",
   "execution_count": 10,
   "id": "fd76c924",
   "metadata": {},
   "outputs": [
    {
     "data": {
      "text/plain": [
       "'unique code'"
      ]
     },
     "execution_count": 10,
     "metadata": {},
     "output_type": "execute_result"
    }
   ],
   "source": [
    "y.pop()"
   ]
  },
  {
   "cell_type": "code",
   "execution_count": 11,
   "id": "6520e44d",
   "metadata": {},
   "outputs": [
    {
     "data": {
      "text/plain": [
       "[18]"
      ]
     },
     "execution_count": 11,
     "metadata": {},
     "output_type": "execute_result"
    }
   ],
   "source": [
    "y"
   ]
  },
  {
   "cell_type": "code",
   "execution_count": 12,
   "id": "d62406bd",
   "metadata": {},
   "outputs": [],
   "source": [
    "y.extend([\"cd\", \"like\", \"flopy\", \"in\", 1998])"
   ]
  },
  {
   "cell_type": "code",
   "execution_count": 13,
   "id": "384c9e09",
   "metadata": {},
   "outputs": [
    {
     "data": {
      "text/plain": [
       "[18, 'cd', 'like', 'flopy', 'in', 1998]"
      ]
     },
     "execution_count": 13,
     "metadata": {},
     "output_type": "execute_result"
    }
   ],
   "source": [
    "y"
   ]
  },
  {
   "cell_type": "code",
   "execution_count": 16,
   "id": "d64b1ee6",
   "metadata": {},
   "outputs": [],
   "source": [
    "y.extend([\"is\", 18, \"KB\", \"in\", 1998])"
   ]
  },
  {
   "cell_type": "code",
   "execution_count": 18,
   "id": "16e299b6",
   "metadata": {},
   "outputs": [
    {
     "name": "stdout",
     "output_type": "stream",
     "text": [
      "[18, 'cd', 'like', 'flopy', 'in', 1998, 'in', 1998, 18, 'KB', 'is', 18, 'KB', 'in', 1998]\n"
     ]
    }
   ],
   "source": [
    "print(y)"
   ]
  },
  {
   "cell_type": "code",
   "execution_count": 19,
   "id": "2c3f35ee",
   "metadata": {},
   "outputs": [],
   "source": [
    "y.remove(18)"
   ]
  },
  {
   "cell_type": "code",
   "execution_count": 21,
   "id": "f5459f41",
   "metadata": {},
   "outputs": [
    {
     "name": "stdout",
     "output_type": "stream",
     "text": [
      "['cd', 'like', 'flopy', 'in', 1998, 'in', 1998, 18, 'KB', 'is', 18, 'KB', 'in', 1998]\n"
     ]
    }
   ],
   "source": [
    "print(y)"
   ]
  },
  {
   "cell_type": "code",
   "execution_count": 22,
   "id": "f0e1ff51",
   "metadata": {},
   "outputs": [
    {
     "ename": "SyntaxError",
     "evalue": "invalid syntax (2918834680.py, line 1)",
     "output_type": "error",
     "traceback": [
      "\u001b[1;36m  File \u001b[1;32m\"C:\\Users\\HP\\AppData\\Local\\Temp\\ipykernel_12236\\2918834680.py\"\u001b[1;36m, line \u001b[1;32m1\u001b[0m\n\u001b[1;33m    y.remove(in, 1998)\u001b[0m\n\u001b[1;37m             ^\u001b[0m\n\u001b[1;31mSyntaxError\u001b[0m\u001b[1;31m:\u001b[0m invalid syntax\n"
     ]
    }
   ],
   "source": [
    "y.remove(in, 1998)"
   ]
  },
  {
   "cell_type": "code",
   "execution_count": 23,
   "id": "06706701",
   "metadata": {},
   "outputs": [
    {
     "ename": "TypeError",
     "evalue": "list.remove() takes exactly one argument (2 given)",
     "output_type": "error",
     "traceback": [
      "\u001b[1;31m---------------------------------------------------------------------------\u001b[0m",
      "\u001b[1;31mTypeError\u001b[0m                                 Traceback (most recent call last)",
      "\u001b[1;32m~\\AppData\\Local\\Temp\\ipykernel_12236\\405604123.py\u001b[0m in \u001b[0;36m<module>\u001b[1;34m\u001b[0m\n\u001b[1;32m----> 1\u001b[1;33m \u001b[0my\u001b[0m\u001b[1;33m.\u001b[0m\u001b[0mremove\u001b[0m\u001b[1;33m(\u001b[0m\u001b[1;34m\"in\"\u001b[0m\u001b[1;33m,\u001b[0m \u001b[1;36m1998\u001b[0m\u001b[1;33m)\u001b[0m\u001b[1;33m\u001b[0m\u001b[1;33m\u001b[0m\u001b[0m\n\u001b[0m",
      "\u001b[1;31mTypeError\u001b[0m: list.remove() takes exactly one argument (2 given)"
     ]
    }
   ],
   "source": [
    "y.remove(\"in\", 1998)"
   ]
  },
  {
   "cell_type": "code",
   "execution_count": 24,
   "id": "0842035d",
   "metadata": {},
   "outputs": [],
   "source": [
    "y.remove(\"in\")"
   ]
  },
  {
   "cell_type": "code",
   "execution_count": 25,
   "id": "50b8af72",
   "metadata": {},
   "outputs": [],
   "source": [
    "y.remove(1998)"
   ]
  },
  {
   "cell_type": "code",
   "execution_count": 26,
   "id": "735c374d",
   "metadata": {},
   "outputs": [],
   "source": [
    "y.remove(18)"
   ]
  },
  {
   "cell_type": "code",
   "execution_count": 27,
   "id": "15619b20",
   "metadata": {},
   "outputs": [],
   "source": [
    "y.remove(\"KB\")"
   ]
  },
  {
   "cell_type": "code",
   "execution_count": 28,
   "id": "b9515a96",
   "metadata": {},
   "outputs": [
    {
     "name": "stdout",
     "output_type": "stream",
     "text": [
      "['cd', 'like', 'flopy', 'in', 1998, 'is', 18, 'KB', 'in', 1998]\n"
     ]
    }
   ],
   "source": [
    "print(y)"
   ]
  },
  {
   "cell_type": "code",
   "execution_count": 29,
   "id": "07ee40f4",
   "metadata": {},
   "outputs": [],
   "source": [
    "y.reverse()"
   ]
  },
  {
   "cell_type": "code",
   "execution_count": 30,
   "id": "95d0bf75",
   "metadata": {},
   "outputs": [
    {
     "name": "stdout",
     "output_type": "stream",
     "text": [
      "[1998, 'in', 'KB', 18, 'is', 1998, 'in', 'flopy', 'like', 'cd']\n"
     ]
    }
   ],
   "source": [
    "print(y)"
   ]
  },
  {
   "cell_type": "code",
   "execution_count": 33,
   "id": "19c26494",
   "metadata": {},
   "outputs": [
    {
     "ename": "TypeError",
     "evalue": "'<' not supported between instances of 'str' and 'int'",
     "output_type": "error",
     "traceback": [
      "\u001b[1;31m---------------------------------------------------------------------------\u001b[0m",
      "\u001b[1;31mTypeError\u001b[0m                                 Traceback (most recent call last)",
      "\u001b[1;32m~\\AppData\\Local\\Temp\\ipykernel_12236\\3916801187.py\u001b[0m in \u001b[0;36m<module>\u001b[1;34m\u001b[0m\n\u001b[1;32m----> 1\u001b[1;33m \u001b[0my\u001b[0m\u001b[1;33m.\u001b[0m\u001b[0msort\u001b[0m\u001b[1;33m(\u001b[0m\u001b[1;33m)\u001b[0m\u001b[1;33m\u001b[0m\u001b[1;33m\u001b[0m\u001b[0m\n\u001b[0m",
      "\u001b[1;31mTypeError\u001b[0m: '<' not supported between instances of 'str' and 'int'"
     ]
    }
   ],
   "source": [
    "y.sort()"
   ]
  },
  {
   "cell_type": "code",
   "execution_count": 34,
   "id": "7e966f24",
   "metadata": {},
   "outputs": [],
   "source": [
    "y.remove(\"in\")"
   ]
  },
  {
   "cell_type": "code",
   "execution_count": 35,
   "id": "499ce8d0",
   "metadata": {},
   "outputs": [],
   "source": [
    "y.remove(\"KB\")"
   ]
  },
  {
   "cell_type": "code",
   "execution_count": 36,
   "id": "330f4da9",
   "metadata": {},
   "outputs": [],
   "source": [
    "y.remove(\"is\")"
   ]
  },
  {
   "cell_type": "code",
   "execution_count": 37,
   "id": "bd200b70",
   "metadata": {},
   "outputs": [],
   "source": [
    "y.remove(\"in\")"
   ]
  },
  {
   "cell_type": "code",
   "execution_count": 38,
   "id": "e234e2d4",
   "metadata": {},
   "outputs": [],
   "source": [
    "y.remove(\"flopy\")"
   ]
  },
  {
   "cell_type": "code",
   "execution_count": 39,
   "id": "708b193e",
   "metadata": {},
   "outputs": [],
   "source": [
    "y.remove(\"like\")"
   ]
  },
  {
   "cell_type": "code",
   "execution_count": 40,
   "id": "638457aa",
   "metadata": {},
   "outputs": [],
   "source": [
    "y.remove(\"cd\")"
   ]
  },
  {
   "cell_type": "code",
   "execution_count": 41,
   "id": "c6411a02",
   "metadata": {},
   "outputs": [],
   "source": [
    "y.extend([24,57,869,487,45,576,5632,786])"
   ]
  },
  {
   "cell_type": "code",
   "execution_count": 42,
   "id": "e81c19b8",
   "metadata": {},
   "outputs": [
    {
     "name": "stdout",
     "output_type": "stream",
     "text": [
      "[1998, 18, 1998, 24, 57, 869, 487, 45, 576, 5632, 786]\n"
     ]
    }
   ],
   "source": [
    "print(y)"
   ]
  },
  {
   "cell_type": "code",
   "execution_count": 43,
   "id": "c44bf17c",
   "metadata": {},
   "outputs": [],
   "source": [
    "y.sort()"
   ]
  },
  {
   "cell_type": "code",
   "execution_count": 44,
   "id": "828a0a48",
   "metadata": {},
   "outputs": [
    {
     "data": {
      "text/plain": [
       "[18, 24, 45, 57, 487, 576, 786, 869, 1998, 1998, 5632]"
      ]
     },
     "execution_count": 44,
     "metadata": {},
     "output_type": "execute_result"
    }
   ],
   "source": [
    "y"
   ]
  },
  {
   "cell_type": "code",
   "execution_count": 45,
   "id": "6f86c3d2",
   "metadata": {},
   "outputs": [
    {
     "ename": "NameError",
     "evalue": "name 'false' is not defined",
     "output_type": "error",
     "traceback": [
      "\u001b[1;31m---------------------------------------------------------------------------\u001b[0m",
      "\u001b[1;31mNameError\u001b[0m                                 Traceback (most recent call last)",
      "\u001b[1;32m~\\AppData\\Local\\Temp\\ipykernel_12236\\2204228207.py\u001b[0m in \u001b[0;36m<module>\u001b[1;34m\u001b[0m\n\u001b[1;32m----> 1\u001b[1;33m \u001b[0my\u001b[0m\u001b[1;33m.\u001b[0m\u001b[0msort\u001b[0m\u001b[1;33m(\u001b[0m\u001b[0mfalse\u001b[0m\u001b[1;33m)\u001b[0m\u001b[1;33m\u001b[0m\u001b[1;33m\u001b[0m\u001b[0m\n\u001b[0m",
      "\u001b[1;31mNameError\u001b[0m: name 'false' is not defined"
     ]
    }
   ],
   "source": [
    "y.sort(false)"
   ]
  },
  {
   "cell_type": "code",
   "execution_count": 46,
   "id": "e83dd12d",
   "metadata": {},
   "outputs": [
    {
     "ename": "NameError",
     "evalue": "name 'false' is not defined",
     "output_type": "error",
     "traceback": [
      "\u001b[1;31m---------------------------------------------------------------------------\u001b[0m",
      "\u001b[1;31mNameError\u001b[0m                                 Traceback (most recent call last)",
      "\u001b[1;32m~\\AppData\\Local\\Temp\\ipykernel_12236\\2115274870.py\u001b[0m in \u001b[0;36m<module>\u001b[1;34m\u001b[0m\n\u001b[1;32m----> 1\u001b[1;33m \u001b[0my\u001b[0m\u001b[1;33m.\u001b[0m\u001b[0msort\u001b[0m\u001b[1;33m(\u001b[0m\u001b[0mreverse\u001b[0m\u001b[1;33m=\u001b[0m\u001b[0mfalse\u001b[0m\u001b[1;33m)\u001b[0m\u001b[1;33m\u001b[0m\u001b[1;33m\u001b[0m\u001b[0m\n\u001b[0m",
      "\u001b[1;31mNameError\u001b[0m: name 'false' is not defined"
     ]
    }
   ],
   "source": [
    "y.sort(reverse=false)"
   ]
  },
  {
   "cell_type": "code",
   "execution_count": 48,
   "id": "4bc2251d",
   "metadata": {},
   "outputs": [],
   "source": [
    "y.sort(reverse=True)"
   ]
  },
  {
   "cell_type": "code",
   "execution_count": 49,
   "id": "cae41349",
   "metadata": {},
   "outputs": [
    {
     "data": {
      "text/plain": [
       "[5632, 1998, 1998, 869, 786, 576, 487, 57, 45, 24, 18]"
      ]
     },
     "execution_count": 49,
     "metadata": {},
     "output_type": "execute_result"
    }
   ],
   "source": [
    "y"
   ]
  },
  {
   "cell_type": "code",
   "execution_count": 50,
   "id": "b02ccd12",
   "metadata": {},
   "outputs": [],
   "source": [
    "y.extend([12,4787,245,62,467,4,87,549,54,65,78])"
   ]
  },
  {
   "cell_type": "code",
   "execution_count": 51,
   "id": "972cb1bf",
   "metadata": {},
   "outputs": [
    {
     "data": {
      "text/plain": [
       "[5632,\n",
       " 1998,\n",
       " 1998,\n",
       " 869,\n",
       " 786,\n",
       " 576,\n",
       " 487,\n",
       " 57,\n",
       " 45,\n",
       " 24,\n",
       " 18,\n",
       " 12,\n",
       " 4787,\n",
       " 245,\n",
       " 62,\n",
       " 467,\n",
       " 4,\n",
       " 87,\n",
       " 549,\n",
       " 54,\n",
       " 65,\n",
       " 78]"
      ]
     },
     "execution_count": 51,
     "metadata": {},
     "output_type": "execute_result"
    }
   ],
   "source": [
    "y"
   ]
  },
  {
   "cell_type": "code",
   "execution_count": 52,
   "id": "33b2e147",
   "metadata": {},
   "outputs": [
    {
     "name": "stdout",
     "output_type": "stream",
     "text": [
      "[5632, 1998, 1998, 869, 786, 576, 487, 57, 45, 24, 18, 12, 4787, 245, 62, 467, 4, 87, 549, 54, 65, 78]\n"
     ]
    }
   ],
   "source": [
    "print(y)"
   ]
  },
  {
   "cell_type": "code",
   "execution_count": 53,
   "id": "db504c5f",
   "metadata": {},
   "outputs": [],
   "source": [
    "y.sort(reverse=True)"
   ]
  },
  {
   "cell_type": "code",
   "execution_count": 56,
   "id": "601d37f2",
   "metadata": {},
   "outputs": [
    {
     "name": "stdout",
     "output_type": "stream",
     "text": [
      "[5632, 4787, 1998, 1998, 869, 786, 576, 549, 487, 467, 245, 87, 78, 65, 62, 57, 54, 45, 24, 18, 12, 4]\n"
     ]
    }
   ],
   "source": [
    "print(y)"
   ]
  },
  {
   "cell_type": "code",
   "execution_count": null,
   "id": "c513fe31",
   "metadata": {},
   "outputs": [],
   "source": []
  }
 ],
 "metadata": {
  "kernelspec": {
   "display_name": "Python 3 (ipykernel)",
   "language": "python",
   "name": "python3"
  },
  "language_info": {
   "codemirror_mode": {
    "name": "ipython",
    "version": 3
   },
   "file_extension": ".py",
   "mimetype": "text/x-python",
   "name": "python",
   "nbconvert_exporter": "python",
   "pygments_lexer": "ipython3",
   "version": "3.9.13"
  }
 },
 "nbformat": 4,
 "nbformat_minor": 5
}
