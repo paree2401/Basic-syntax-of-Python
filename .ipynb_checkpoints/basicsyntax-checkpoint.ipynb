{
 "cells": [
  {
   "cell_type": "markdown",
   "id": "7284f73a",
   "metadata": {},
   "source": [
    "# Data Structures (Most important component of Prog. Langauge)"
   ]
  },
  {
   "cell_type": "markdown",
   "id": "b01aac16",
   "metadata": {},
   "source": [
    "Data structure is the different wy to store data"
   ]
  },
  {
   "cell_type": "markdown",
   "id": "57232967",
   "metadata": {},
   "source": [
    "why are the different way"
   ]
  },
  {
   "cell_type": "markdown",
   "id": "6b50052f",
   "metadata": {},
   "source": [
    "because they have different advantages and disadvantages"
   ]
  },
  {
   "cell_type": "markdown",
   "id": "27c6bba3",
   "metadata": {},
   "source": [
    "1. When to use data structure in prog. Lamg. to get max. benefit"
   ]
  },
  {
   "cell_type": "markdown",
   "id": "c076ddd8",
   "metadata": {},
   "source": [
    "Core Data structure in python these are the way to store data\n",
    "1. list\n",
    "2. dictionary\n",
    "3. tuple\n",
    "4. set"
   ]
  },
  {
   "cell_type": "markdown",
   "id": "e04d09aa",
   "metadata": {},
   "source": [
    "list_instance = lsit()"
   ]
  },
  {
   "cell_type": "code",
   "execution_count": 3,
   "id": "1ba652bc",
   "metadata": {},
   "outputs": [
    {
     "ename": "NameError",
     "evalue": "name 'list_instance' is not defined",
     "output_type": "error",
     "traceback": [
      "\u001b[1;31m---------------------------------------------------------------------------\u001b[0m",
      "\u001b[1;31mNameError\u001b[0m                                 Traceback (most recent call last)",
      "\u001b[1;32m~\\AppData\\Local\\Temp\\ipykernel_9288\\2051360480.py\u001b[0m in \u001b[0;36m<module>\u001b[1;34m\u001b[0m\n\u001b[1;32m----> 1\u001b[1;33m \u001b[0mlist_instance\u001b[0m\u001b[1;33m\u001b[0m\u001b[1;33m\u001b[0m\u001b[0m\n\u001b[0m",
      "\u001b[1;31mNameError\u001b[0m: name 'list_instance' is not defined"
     ]
    }
   ],
   "source": [
    "list_instance"
   ]
  },
  {
   "cell_type": "code",
   "execution_count": 4,
   "id": "a10d7ef9",
   "metadata": {},
   "outputs": [],
   "source": [
    "list_input= list()"
   ]
  },
  {
   "cell_type": "code",
   "execution_count": 5,
   "id": "9c9366fd",
   "metadata": {},
   "outputs": [
    {
     "ename": "TypeError",
     "evalue": "list.append() takes exactly one argument (4 given)",
     "output_type": "error",
     "traceback": [
      "\u001b[1;31m---------------------------------------------------------------------------\u001b[0m",
      "\u001b[1;31mTypeError\u001b[0m                                 Traceback (most recent call last)",
      "\u001b[1;32m~\\AppData\\Local\\Temp\\ipykernel_9288\\4138909443.py\u001b[0m in \u001b[0;36m<module>\u001b[1;34m\u001b[0m\n\u001b[1;32m----> 1\u001b[1;33m \u001b[0mlist_input\u001b[0m\u001b[1;33m.\u001b[0m\u001b[0mappend\u001b[0m\u001b[1;33m(\u001b[0m\u001b[1;36m18\u001b[0m\u001b[1;33m,\u001b[0m \u001b[1;36m19\u001b[0m\u001b[1;33m,\u001b[0m \u001b[1;36m20\u001b[0m\u001b[1;33m,\u001b[0m \u001b[1;36m21\u001b[0m\u001b[1;33m)\u001b[0m\u001b[1;33m\u001b[0m\u001b[1;33m\u001b[0m\u001b[0m\n\u001b[0m",
      "\u001b[1;31mTypeError\u001b[0m: list.append() takes exactly one argument (4 given)"
     ]
    }
   ],
   "source": [
    "list_input.append(18, 19, 20, 21)"
   ]
  },
  {
   "cell_type": "code",
   "execution_count": 6,
   "id": "ff6d5d2a",
   "metadata": {},
   "outputs": [],
   "source": [
    "list_input.append(18)"
   ]
  },
  {
   "cell_type": "code",
   "execution_count": 7,
   "id": "de000090",
   "metadata": {},
   "outputs": [
    {
     "data": {
      "text/plain": [
       "[18]"
      ]
     },
     "execution_count": 7,
     "metadata": {},
     "output_type": "execute_result"
    }
   ],
   "source": [
    "list_input"
   ]
  },
  {
   "cell_type": "code",
   "execution_count": 8,
   "id": "12fa885a",
   "metadata": {},
   "outputs": [],
   "source": [
    "list_input.append(19)"
   ]
  },
  {
   "cell_type": "code",
   "execution_count": 9,
   "id": "fb60a36d",
   "metadata": {},
   "outputs": [],
   "source": [
    "list_input.append(20)"
   ]
  },
  {
   "cell_type": "code",
   "execution_count": 10,
   "id": "feb47adf",
   "metadata": {},
   "outputs": [],
   "source": [
    "list_input.append(21)"
   ]
  },
  {
   "cell_type": "code",
   "execution_count": 11,
   "id": "54f85289",
   "metadata": {},
   "outputs": [],
   "source": [
    "list_input.append(\"First practise on coding\")"
   ]
  },
  {
   "cell_type": "code",
   "execution_count": 12,
   "id": "fab2b2b0",
   "metadata": {},
   "outputs": [
    {
     "data": {
      "text/plain": [
       "[18, 19, 20, 21, 'First practise on coding']"
      ]
     },
     "execution_count": 12,
     "metadata": {},
     "output_type": "execute_result"
    }
   ],
   "source": [
    "list_input"
   ]
  },
  {
   "cell_type": "code",
   "execution_count": 13,
   "id": "e03955cd",
   "metadata": {},
   "outputs": [],
   "source": [
    "list_input.append(\"Practise 01\")"
   ]
  },
  {
   "cell_type": "code",
   "execution_count": 14,
   "id": "0bda29d9",
   "metadata": {},
   "outputs": [
    {
     "data": {
      "text/plain": [
       "[18, 19, 20, 21, 'First practise on coding', 'Practise 01']"
      ]
     },
     "execution_count": 14,
     "metadata": {},
     "output_type": "execute_result"
    }
   ],
   "source": [
    "list_input"
   ]
  },
  {
   "cell_type": "code",
   "execution_count": 15,
   "id": "910408ab",
   "metadata": {},
   "outputs": [],
   "source": [
    "list_input.clear()"
   ]
  },
  {
   "cell_type": "code",
   "execution_count": 16,
   "id": "ee100f24",
   "metadata": {},
   "outputs": [
    {
     "data": {
      "text/plain": [
       "[]"
      ]
     },
     "execution_count": 16,
     "metadata": {},
     "output_type": "execute_result"
    }
   ],
   "source": [
    "list_input"
   ]
  },
  {
   "cell_type": "code",
   "execution_count": 17,
   "id": "bd3150be",
   "metadata": {},
   "outputs": [
    {
     "data": {
      "text/plain": [
       "[]"
      ]
     },
     "execution_count": 17,
     "metadata": {},
     "output_type": "execute_result"
    }
   ],
   "source": [
    "list_input.copy()"
   ]
  },
  {
   "cell_type": "code",
   "execution_count": 18,
   "id": "3bda9084",
   "metadata": {},
   "outputs": [],
   "source": [
    "list_input.append(24)"
   ]
  },
  {
   "cell_type": "code",
   "execution_count": 19,
   "id": "c815e7e8",
   "metadata": {},
   "outputs": [],
   "source": [
    "list_input.append(\"-\")"
   ]
  },
  {
   "cell_type": "code",
   "execution_count": 20,
   "id": "89f8087f",
   "metadata": {},
   "outputs": [
    {
     "ename": "SyntaxError",
     "evalue": "leading zeros in decimal integer literals are not permitted; use an 0o prefix for octal integers (639283045.py, line 1)",
     "output_type": "error",
     "traceback": [
      "\u001b[1;36m  File \u001b[1;32m\"C:\\Users\\HP\\AppData\\Local\\Temp\\ipykernel_9288\\639283045.py\"\u001b[1;36m, line \u001b[1;32m1\u001b[0m\n\u001b[1;33m    list_input.append(01)\u001b[0m\n\u001b[1;37m                       ^\u001b[0m\n\u001b[1;31mSyntaxError\u001b[0m\u001b[1;31m:\u001b[0m leading zeros in decimal integer literals are not permitted; use an 0o prefix for octal integers\n"
     ]
    }
   ],
   "source": [
    "list_input.append(01)"
   ]
  },
  {
   "cell_type": "code",
   "execution_count": 31,
   "id": "459dbf78",
   "metadata": {},
   "outputs": [],
   "source": [
    "list_input.append(0o1)"
   ]
  },
  {
   "cell_type": "code",
   "execution_count": 32,
   "id": "e6fb4567",
   "metadata": {},
   "outputs": [],
   "source": [
    "list_input.append(\"-\")"
   ]
  },
  {
   "cell_type": "code",
   "execution_count": 33,
   "id": "99dceb3c",
   "metadata": {},
   "outputs": [],
   "source": [
    "list_input.append(1993)"
   ]
  },
  {
   "cell_type": "code",
   "execution_count": 34,
   "id": "9f3aad7c",
   "metadata": {},
   "outputs": [],
   "source": [
    "list_input.append(\"DOB\")"
   ]
  },
  {
   "cell_type": "code",
   "execution_count": 35,
   "id": "77935893",
   "metadata": {},
   "outputs": [
    {
     "data": {
      "text/plain": [
       "[24, '-', 1, '-', 1993, 'DOB']"
      ]
     },
     "execution_count": 35,
     "metadata": {},
     "output_type": "execute_result"
    }
   ],
   "source": [
    "list_input"
   ]
  },
  {
   "cell_type": "code",
   "execution_count": 36,
   "id": "6b710e48",
   "metadata": {},
   "outputs": [],
   "source": [
    "y= list_input"
   ]
  },
  {
   "cell_type": "code",
   "execution_count": 37,
   "id": "a04d72f4",
   "metadata": {},
   "outputs": [
    {
     "data": {
      "text/plain": [
       "[24, '-', 1, '-', 1993, 'DOB']"
      ]
     },
     "execution_count": 37,
     "metadata": {},
     "output_type": "execute_result"
    }
   ],
   "source": [
    "y"
   ]
  },
  {
   "cell_type": "code",
   "execution_count": 38,
   "id": "e4174f9d",
   "metadata": {},
   "outputs": [
    {
     "data": {
      "text/plain": [
       "[24, '-', 1, '-', 1993, 'DOB']"
      ]
     },
     "execution_count": 38,
     "metadata": {},
     "output_type": "execute_result"
    }
   ],
   "source": [
    "list_input"
   ]
  },
  {
   "cell_type": "code",
   "execution_count": 39,
   "id": "59232372",
   "metadata": {},
   "outputs": [
    {
     "data": {
      "text/plain": [
       "1"
      ]
     },
     "execution_count": 39,
     "metadata": {},
     "output_type": "execute_result"
    }
   ],
   "source": [
    "list_input.count(1993)"
   ]
  },
  {
   "cell_type": "code",
   "execution_count": 40,
   "id": "2f79922f",
   "metadata": {},
   "outputs": [
    {
     "data": {
      "text/plain": [
       "0"
      ]
     },
     "execution_count": 40,
     "metadata": {},
     "output_type": "execute_result"
    }
   ],
   "source": [
    "y.count(\"dob\")"
   ]
  },
  {
   "cell_type": "code",
   "execution_count": 41,
   "id": "579094c6",
   "metadata": {},
   "outputs": [
    {
     "data": {
      "text/plain": [
       "1"
      ]
     },
     "execution_count": 41,
     "metadata": {},
     "output_type": "execute_result"
    }
   ],
   "source": [
    "y.count(\"DOB\")"
   ]
  },
  {
   "cell_type": "code",
   "execution_count": 43,
   "id": "5508963a",
   "metadata": {},
   "outputs": [
    {
     "ename": "TypeError",
     "evalue": "list.extend() takes exactly one argument (4 given)",
     "output_type": "error",
     "traceback": [
      "\u001b[1;31m---------------------------------------------------------------------------\u001b[0m",
      "\u001b[1;31mTypeError\u001b[0m                                 Traceback (most recent call last)",
      "\u001b[1;32m~\\AppData\\Local\\Temp\\ipykernel_9288\\1627793517.py\u001b[0m in \u001b[0;36m<module>\u001b[1;34m\u001b[0m\n\u001b[1;32m----> 1\u001b[1;33m \u001b[0my\u001b[0m\u001b[1;33m.\u001b[0m\u001b[0mextend\u001b[0m\u001b[1;33m(\u001b[0m\u001b[1;34m\"Smupy DOB\"\u001b[0m\u001b[1;33m,\u001b[0m \u001b[1;36m20\u001b[0m\u001b[1;33m,\u001b[0m \u001b[1;36m9\u001b[0m\u001b[1;33m,\u001b[0m \u001b[1;36m1993\u001b[0m\u001b[1;33m)\u001b[0m\u001b[1;33m\u001b[0m\u001b[1;33m\u001b[0m\u001b[0m\n\u001b[0m",
      "\u001b[1;31mTypeError\u001b[0m: list.extend() takes exactly one argument (4 given)"
     ]
    }
   ],
   "source": [
    "y.extend(\"Smupy DOB\", 20, 9, 1993)"
   ]
  },
  {
   "cell_type": "code",
   "execution_count": 44,
   "id": "3e4ebd21",
   "metadata": {},
   "outputs": [],
   "source": [
    "y.extend([\"Smupy DOB\", 20, 9, 1993])"
   ]
  },
  {
   "cell_type": "code",
   "execution_count": 45,
   "id": "ff3f0af5",
   "metadata": {},
   "outputs": [
    {
     "data": {
      "text/plain": [
       "[24, '-', 1, '-', 1993, 'DOB', 'Smupy DOB', 20, 9, 1993]"
      ]
     },
     "execution_count": 45,
     "metadata": {},
     "output_type": "execute_result"
    }
   ],
   "source": [
    "y"
   ]
  },
  {
   "cell_type": "code",
   "execution_count": 46,
   "id": "f5317f6d",
   "metadata": {},
   "outputs": [
    {
     "data": {
      "text/plain": [
       "0"
      ]
     },
     "execution_count": 46,
     "metadata": {},
     "output_type": "execute_result"
    }
   ],
   "source": [
    "y.index(24)"
   ]
  },
  {
   "cell_type": "code",
   "execution_count": 52,
   "id": "affc6b31",
   "metadata": {},
   "outputs": [],
   "source": [
    "i= y.index(9)"
   ]
  },
  {
   "cell_type": "code",
   "execution_count": 53,
   "id": "1343c459",
   "metadata": {},
   "outputs": [
    {
     "ename": "ValueError",
     "evalue": "[9] is not in list",
     "output_type": "error",
     "traceback": [
      "\u001b[1;31m---------------------------------------------------------------------------\u001b[0m",
      "\u001b[1;31mValueError\u001b[0m                                Traceback (most recent call last)",
      "\u001b[1;32m~\\AppData\\Local\\Temp\\ipykernel_9288\\1507624420.py\u001b[0m in \u001b[0;36m<module>\u001b[1;34m\u001b[0m\n\u001b[1;32m----> 1\u001b[1;33m \u001b[0my\u001b[0m\u001b[1;33m.\u001b[0m\u001b[0mindex\u001b[0m\u001b[1;33m(\u001b[0m\u001b[1;33m[\u001b[0m\u001b[1;36m9\u001b[0m\u001b[1;33m]\u001b[0m\u001b[1;33m)\u001b[0m\u001b[1;33m\u001b[0m\u001b[1;33m\u001b[0m\u001b[0m\n\u001b[0m",
      "\u001b[1;31mValueError\u001b[0m: [9] is not in list"
     ]
    }
   ],
   "source": [
    "y.index([9])"
   ]
  },
  {
   "cell_type": "code",
   "execution_count": 54,
   "id": "edd02d4d",
   "metadata": {},
   "outputs": [
    {
     "data": {
      "text/plain": [
       "1993"
      ]
     },
     "execution_count": 54,
     "metadata": {},
     "output_type": "execute_result"
    }
   ],
   "source": [
    "y[9]"
   ]
  },
  {
   "cell_type": "code",
   "execution_count": 55,
   "id": "3b6e980d",
   "metadata": {},
   "outputs": [
    {
     "ename": "NameError",
     "evalue": "name 'Delete' is not defined",
     "output_type": "error",
     "traceback": [
      "\u001b[1;31m---------------------------------------------------------------------------\u001b[0m",
      "\u001b[1;31mNameError\u001b[0m                                 Traceback (most recent call last)",
      "\u001b[1;32m~\\AppData\\Local\\Temp\\ipykernel_9288\\1874867976.py\u001b[0m in \u001b[0;36m<module>\u001b[1;34m\u001b[0m\n\u001b[1;32m----> 1\u001b[1;33m \u001b[0my\u001b[0m\u001b[1;33m.\u001b[0m\u001b[0minsert\u001b[0m\u001b[1;33m(\u001b[0m\u001b[1;36m6\u001b[0m\u001b[1;33m,\u001b[0m \u001b[0mDelete\u001b[0m\u001b[1;33m)\u001b[0m\u001b[1;33m\u001b[0m\u001b[1;33m\u001b[0m\u001b[0m\n\u001b[0m",
      "\u001b[1;31mNameError\u001b[0m: name 'Delete' is not defined"
     ]
    }
   ],
   "source": [
    "y.insert(6, Delete)"
   ]
  },
  {
   "cell_type": "code",
   "execution_count": 56,
   "id": "9bb35801",
   "metadata": {},
   "outputs": [],
   "source": [
    "y.insert(6, \"delete\")"
   ]
  },
  {
   "cell_type": "code",
   "execution_count": 57,
   "id": "a3986789",
   "metadata": {},
   "outputs": [
    {
     "data": {
      "text/plain": [
       "[24, '-', 1, '-', 1993, 'DOB', 'delete', 'Smupy DOB', 20, 9, 1993]"
      ]
     },
     "execution_count": 57,
     "metadata": {},
     "output_type": "execute_result"
    }
   ],
   "source": [
    "y"
   ]
  },
  {
   "cell_type": "code",
   "execution_count": 61,
   "id": "80418391",
   "metadata": {},
   "outputs": [],
   "source": [
    "p=y.index(\"Smupy DOB\")"
   ]
  },
  {
   "cell_type": "code",
   "execution_count": 62,
   "id": "f735223b",
   "metadata": {},
   "outputs": [
    {
     "data": {
      "text/plain": [
       "7"
      ]
     },
     "execution_count": 62,
     "metadata": {},
     "output_type": "execute_result"
    }
   ],
   "source": [
    "p"
   ]
  },
  {
   "cell_type": "code",
   "execution_count": 63,
   "id": "8413c2b7",
   "metadata": {},
   "outputs": [
    {
     "ename": "TypeError",
     "evalue": "'str' object cannot be interpreted as an integer",
     "output_type": "error",
     "traceback": [
      "\u001b[1;31m---------------------------------------------------------------------------\u001b[0m",
      "\u001b[1;31mTypeError\u001b[0m                                 Traceback (most recent call last)",
      "\u001b[1;32m~\\AppData\\Local\\Temp\\ipykernel_9288\\1923380509.py\u001b[0m in \u001b[0;36m<module>\u001b[1;34m\u001b[0m\n\u001b[1;32m----> 1\u001b[1;33m \u001b[0my\u001b[0m\u001b[1;33m.\u001b[0m\u001b[0mpop\u001b[0m\u001b[1;33m(\u001b[0m\u001b[1;34m\"Smupy DOB\"\u001b[0m\u001b[1;33m)\u001b[0m\u001b[1;33m\u001b[0m\u001b[1;33m\u001b[0m\u001b[0m\n\u001b[0m",
      "\u001b[1;31mTypeError\u001b[0m: 'str' object cannot be interpreted as an integer"
     ]
    }
   ],
   "source": [
    "y.pop(\"Smupy DOB\")"
   ]
  },
  {
   "cell_type": "code",
   "execution_count": 64,
   "id": "eef0259e",
   "metadata": {},
   "outputs": [
    {
     "ename": "IndexError",
     "evalue": "pop index out of range",
     "output_type": "error",
     "traceback": [
      "\u001b[1;31m---------------------------------------------------------------------------\u001b[0m",
      "\u001b[1;31mIndexError\u001b[0m                                Traceback (most recent call last)",
      "\u001b[1;32m~\\AppData\\Local\\Temp\\ipykernel_9288\\1293246524.py\u001b[0m in \u001b[0;36m<module>\u001b[1;34m\u001b[0m\n\u001b[1;32m----> 1\u001b[1;33m \u001b[0my\u001b[0m\u001b[1;33m.\u001b[0m\u001b[0mpop\u001b[0m\u001b[1;33m(\u001b[0m\u001b[1;36m20\u001b[0m\u001b[1;33m)\u001b[0m\u001b[1;33m\u001b[0m\u001b[1;33m\u001b[0m\u001b[0m\n\u001b[0m",
      "\u001b[1;31mIndexError\u001b[0m: pop index out of range"
     ]
    }
   ],
   "source": [
    "y.pop(20)"
   ]
  },
  {
   "cell_type": "code",
   "execution_count": 65,
   "id": "8ed3673d",
   "metadata": {},
   "outputs": [
    {
     "data": {
      "text/plain": [
       "'Smupy DOB'"
      ]
     },
     "execution_count": 65,
     "metadata": {},
     "output_type": "execute_result"
    }
   ],
   "source": [
    "y.pop(7)"
   ]
  },
  {
   "cell_type": "code",
   "execution_count": 66,
   "id": "7a7fbddb",
   "metadata": {},
   "outputs": [
    {
     "data": {
      "text/plain": [
       "20"
      ]
     },
     "execution_count": 66,
     "metadata": {},
     "output_type": "execute_result"
    }
   ],
   "source": [
    "y.pop(7)"
   ]
  },
  {
   "cell_type": "code",
   "execution_count": 67,
   "id": "ccb8e758",
   "metadata": {},
   "outputs": [
    {
     "data": {
      "text/plain": [
       "9"
      ]
     },
     "execution_count": 67,
     "metadata": {},
     "output_type": "execute_result"
    }
   ],
   "source": [
    "y.pop(7)"
   ]
  },
  {
   "cell_type": "code",
   "execution_count": 68,
   "id": "34e45ad3",
   "metadata": {},
   "outputs": [
    {
     "data": {
      "text/plain": [
       "1993"
      ]
     },
     "execution_count": 68,
     "metadata": {},
     "output_type": "execute_result"
    }
   ],
   "source": [
    "y.pop(7)"
   ]
  },
  {
   "cell_type": "code",
   "execution_count": 69,
   "id": "5a75ba71",
   "metadata": {},
   "outputs": [
    {
     "data": {
      "text/plain": [
       "'delete'"
      ]
     },
     "execution_count": 69,
     "metadata": {},
     "output_type": "execute_result"
    }
   ],
   "source": [
    "y.pop(6)"
   ]
  },
  {
   "cell_type": "code",
   "execution_count": 70,
   "id": "e5a18c4c",
   "metadata": {},
   "outputs": [
    {
     "data": {
      "text/plain": [
       "[24, '-', 1, '-', 1993, 'DOB']"
      ]
     },
     "execution_count": 70,
     "metadata": {},
     "output_type": "execute_result"
    }
   ],
   "source": [
    "y"
   ]
  },
  {
   "cell_type": "code",
   "execution_count": 71,
   "id": "3e0c94a0",
   "metadata": {},
   "outputs": [],
   "source": [
    "y.remove(24)"
   ]
  },
  {
   "cell_type": "code",
   "execution_count": 72,
   "id": "cb3e70b4",
   "metadata": {},
   "outputs": [
    {
     "data": {
      "text/plain": [
       "['-', 1, '-', 1993, 'DOB']"
      ]
     },
     "execution_count": 72,
     "metadata": {},
     "output_type": "execute_result"
    }
   ],
   "source": [
    "y"
   ]
  },
  {
   "cell_type": "code",
   "execution_count": 73,
   "id": "f6177ce4",
   "metadata": {},
   "outputs": [
    {
     "ename": "TypeError",
     "evalue": "list.remove() takes exactly one argument (4 given)",
     "output_type": "error",
     "traceback": [
      "\u001b[1;31m---------------------------------------------------------------------------\u001b[0m",
      "\u001b[1;31mTypeError\u001b[0m                                 Traceback (most recent call last)",
      "\u001b[1;32m~\\AppData\\Local\\Temp\\ipykernel_9288\\197421903.py\u001b[0m in \u001b[0;36m<module>\u001b[1;34m\u001b[0m\n\u001b[1;32m----> 1\u001b[1;33m \u001b[0my\u001b[0m\u001b[1;33m.\u001b[0m\u001b[0mremove\u001b[0m\u001b[1;33m(\u001b[0m\u001b[1;34m\"-\"\u001b[0m\u001b[1;33m,\u001b[0m \u001b[1;36m1\u001b[0m\u001b[1;33m,\u001b[0m \u001b[1;34m\"-\"\u001b[0m\u001b[1;33m,\u001b[0m \u001b[1;36m1993\u001b[0m\u001b[1;33m)\u001b[0m\u001b[1;33m\u001b[0m\u001b[1;33m\u001b[0m\u001b[0m\n\u001b[0m",
      "\u001b[1;31mTypeError\u001b[0m: list.remove() takes exactly one argument (4 given)"
     ]
    }
   ],
   "source": [
    "y.remove(\"-\", 1, \"-\", 1993)"
   ]
  },
  {
   "cell_type": "code",
   "execution_count": 74,
   "id": "5e4a4770",
   "metadata": {},
   "outputs": [],
   "source": [
    "y.reverse()"
   ]
  },
  {
   "cell_type": "code",
   "execution_count": 75,
   "id": "3a3e1fa2",
   "metadata": {},
   "outputs": [
    {
     "data": {
      "text/plain": [
       "['DOB', 1993, '-', 1, '-']"
      ]
     },
     "execution_count": 75,
     "metadata": {},
     "output_type": "execute_result"
    }
   ],
   "source": [
    "y"
   ]
  },
  {
   "cell_type": "code",
   "execution_count": 79,
   "id": "c05d7fbd",
   "metadata": {},
   "outputs": [
    {
     "data": {
      "text/plain": [
       "<function list.clear()>"
      ]
     },
     "execution_count": 79,
     "metadata": {},
     "output_type": "execute_result"
    }
   ],
   "source": [
    "y.clear"
   ]
  },
  {
   "cell_type": "code",
   "execution_count": 80,
   "id": "d235a7db",
   "metadata": {},
   "outputs": [
    {
     "data": {
      "text/plain": [
       "['DOB', 1993, '-', 1, '-']"
      ]
     },
     "execution_count": 80,
     "metadata": {},
     "output_type": "execute_result"
    }
   ],
   "source": [
    "y"
   ]
  },
  {
   "cell_type": "code",
   "execution_count": 81,
   "id": "b582d048",
   "metadata": {},
   "outputs": [],
   "source": [
    "y.clear()"
   ]
  },
  {
   "cell_type": "code",
   "execution_count": 82,
   "id": "b202a867",
   "metadata": {},
   "outputs": [
    {
     "data": {
      "text/plain": [
       "[]"
      ]
     },
     "execution_count": 82,
     "metadata": {},
     "output_type": "execute_result"
    }
   ],
   "source": [
    "y"
   ]
  },
  {
   "cell_type": "code",
   "execution_count": 84,
   "id": "d40027fb",
   "metadata": {},
   "outputs": [],
   "source": [
    "y.extend([4, 5, 7, 75, 87, 96, 125, 124, 1321564, 1546, 547, 4637])"
   ]
  },
  {
   "cell_type": "code",
   "execution_count": 85,
   "id": "ff3e25b3",
   "metadata": {},
   "outputs": [
    {
     "data": {
      "text/plain": [
       "[4, 5, 7, 75, 87, 96, 125, 124, 1321564, 1546, 547, 4637]"
      ]
     },
     "execution_count": 85,
     "metadata": {},
     "output_type": "execute_result"
    }
   ],
   "source": [
    "y"
   ]
  },
  {
   "cell_type": "code",
   "execution_count": 86,
   "id": "40c92936",
   "metadata": {},
   "outputs": [],
   "source": [
    "y.sort()"
   ]
  },
  {
   "cell_type": "code",
   "execution_count": 87,
   "id": "1c970bcb",
   "metadata": {},
   "outputs": [
    {
     "data": {
      "text/plain": [
       "[4, 5, 7, 75, 87, 96, 124, 125, 547, 1546, 4637, 1321564]"
      ]
     },
     "execution_count": 87,
     "metadata": {},
     "output_type": "execute_result"
    }
   ],
   "source": [
    "y"
   ]
  },
  {
   "cell_type": "code",
   "execution_count": 88,
   "id": "2f889485",
   "metadata": {},
   "outputs": [
    {
     "ename": "NameError",
     "evalue": "name 'true' is not defined",
     "output_type": "error",
     "traceback": [
      "\u001b[1;31m---------------------------------------------------------------------------\u001b[0m",
      "\u001b[1;31mNameError\u001b[0m                                 Traceback (most recent call last)",
      "\u001b[1;32m~\\AppData\\Local\\Temp\\ipykernel_9288\\3710927925.py\u001b[0m in \u001b[0;36m<module>\u001b[1;34m\u001b[0m\n\u001b[1;32m----> 1\u001b[1;33m \u001b[0my\u001b[0m\u001b[1;33m.\u001b[0m\u001b[0msort\u001b[0m\u001b[1;33m(\u001b[0m\u001b[0mtrue\u001b[0m\u001b[1;33m)\u001b[0m\u001b[1;33m\u001b[0m\u001b[1;33m\u001b[0m\u001b[0m\n\u001b[0m",
      "\u001b[1;31mNameError\u001b[0m: name 'true' is not defined"
     ]
    }
   ],
   "source": [
    "y.sort(true)"
   ]
  },
  {
   "cell_type": "code",
   "execution_count": 89,
   "id": "29c398d4",
   "metadata": {},
   "outputs": [
    {
     "ename": "NameError",
     "evalue": "name 'true' is not defined",
     "output_type": "error",
     "traceback": [
      "\u001b[1;31m---------------------------------------------------------------------------\u001b[0m",
      "\u001b[1;31mNameError\u001b[0m                                 Traceback (most recent call last)",
      "\u001b[1;32m~\\AppData\\Local\\Temp\\ipykernel_9288\\3712194293.py\u001b[0m in \u001b[0;36m<module>\u001b[1;34m\u001b[0m\n\u001b[1;32m----> 1\u001b[1;33m \u001b[0my\u001b[0m\u001b[1;33m.\u001b[0m\u001b[0msort\u001b[0m\u001b[1;33m(\u001b[0m\u001b[0mreverse\u001b[0m\u001b[1;33m=\u001b[0m\u001b[0mtrue\u001b[0m\u001b[1;33m)\u001b[0m\u001b[1;33m\u001b[0m\u001b[1;33m\u001b[0m\u001b[0m\n\u001b[0m",
      "\u001b[1;31mNameError\u001b[0m: name 'true' is not defined"
     ]
    }
   ],
   "source": [
    "y.sort(reverse=true)"
   ]
  },
  {
   "cell_type": "code",
   "execution_count": 90,
   "id": "4464f9d8",
   "metadata": {},
   "outputs": [],
   "source": [
    "y.sort(reverse=True)"
   ]
  },
  {
   "cell_type": "code",
   "execution_count": 91,
   "id": "bdc1f4d3",
   "metadata": {},
   "outputs": [
    {
     "data": {
      "text/plain": [
       "[1321564, 4637, 1546, 547, 125, 124, 96, 87, 75, 7, 5, 4]"
      ]
     },
     "execution_count": 91,
     "metadata": {},
     "output_type": "execute_result"
    }
   ],
   "source": [
    "y"
   ]
  },
  {
   "cell_type": "code",
   "execution_count": 92,
   "id": "b27b3952",
   "metadata": {},
   "outputs": [
    {
     "ename": "TypeError",
     "evalue": "sort() takes no positional arguments",
     "output_type": "error",
     "traceback": [
      "\u001b[1;31m---------------------------------------------------------------------------\u001b[0m",
      "\u001b[1;31mTypeError\u001b[0m                                 Traceback (most recent call last)",
      "\u001b[1;32m~\\AppData\\Local\\Temp\\ipykernel_9288\\4222531820.py\u001b[0m in \u001b[0;36m<module>\u001b[1;34m\u001b[0m\n\u001b[1;32m----> 1\u001b[1;33m \u001b[0my\u001b[0m\u001b[1;33m.\u001b[0m\u001b[0msort\u001b[0m\u001b[1;33m(\u001b[0m\u001b[1;32mTrue\u001b[0m\u001b[1;33m)\u001b[0m\u001b[1;33m\u001b[0m\u001b[1;33m\u001b[0m\u001b[0m\n\u001b[0m",
      "\u001b[1;31mTypeError\u001b[0m: sort() takes no positional arguments"
     ]
    }
   ],
   "source": [
    "y.sort(True)"
   ]
  },
  {
   "cell_type": "code",
   "execution_count": null,
   "id": "ecf31909",
   "metadata": {},
   "outputs": [],
   "source": []
  }
 ],
 "metadata": {
  "kernelspec": {
   "display_name": "Python 3 (ipykernel)",
   "language": "python",
   "name": "python3"
  },
  "language_info": {
   "codemirror_mode": {
    "name": "ipython",
    "version": 3
   },
   "file_extension": ".py",
   "mimetype": "text/x-python",
   "name": "python",
   "nbconvert_exporter": "python",
   "pygments_lexer": "ipython3",
   "version": "3.9.13"
  }
 },
 "nbformat": 4,
 "nbformat_minor": 5
}
